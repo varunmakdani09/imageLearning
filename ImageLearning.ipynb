{
 "nbformat": 4,
 "nbformat_minor": 2,
 "metadata": {
  "language_info": {
   "name": "python",
   "codemirror_mode": {
    "name": "ipython",
    "version": 3
   },
   "version": "3.7.4"
  },
  "orig_nbformat": 2,
  "file_extension": ".py",
  "mimetype": "text/x-python",
  "name": "python",
  "npconvert_exporter": "python",
  "pygments_lexer": "ipython3",
  "version": 3
 },
 "cells": [
  {
   "cell_type": "code",
   "metadata": {},
   "outputs": [],
   "source": [
    "import skimage\n",
    "from skimage import io\n",
    "from skimage import data\n",
    "import numpy as np\n",
    "import matplotlib.pyplot as plt\n"
   ]
  },
  {
   "cell_type": "code",
   "metadata": {},
   "outputs": [],
   "source": [
    "#sample image (cmap is used to decide the color map) --interpolation is to use the missing gaps in the image\n",
    "sample_image = np.random.random([300,300])\n",
    "plt.imshow(sample_image,cmap = \"gray\",interpolation = \"nearest\")"
   ]
  },
  {
   "cell_type": "code",
   "metadata": {},
   "outputs": [],
   "source": [
    "#importing image\n",
    "testImage = skimage.io.imread(\"./3B_900k.jpg\", as_gray=False)\n",
    "plt.imshow(testImage)\n",
    "plt.xticks([])\n",
    "plt.yticks([])"
   ]
  },
  {
   "cell_type": "markdown",
   "metadata": {},
   "outputs": [],
   "source": [
    "import pprint as pp\n",
    "pp.pprint(testImage[:,:,] == [73,73,73])"
   ]
  },
  {
   "cell_type": "code",
   "metadata": {},
   "outputs": [],
   "source": [
    "#pixels with intensity less that 0.5\n",
    "testImageCopy = testImage.copy()\n",
    "np.set_printoptions(threshold=sys.maxsize)\n",
    "mask = np.logical_and(testImageCopy[:,:,0] >= 55, testImageCopy[:,:,0] < 66)\n",
    "#plt.imshow(testImageCopy , cmap=\"gray\")\n",
    "#plt.xticks([])\n",
    "#plt.yticks([])"
   ]
  },
  {
   "cell_type": "code",
   "metadata": {},
   "outputs": [],
   "source": []
  }
 ]
}